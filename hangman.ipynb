{
 "cells": [
  {
   "cell_type": "code",
   "execution_count": 18,
   "id": "c9b75094-9828-4d06-8ee5-c056d3448c6d",
   "metadata": {
    "tags": []
   },
   "outputs": [],
   "source": [
    "import random\n",
    "import string"
   ]
  },
  {
   "cell_type": "code",
   "execution_count": 19,
   "id": "20cc5f5f-c443-4ce1-a1e9-4747e8323d0e",
   "metadata": {
    "tags": []
   },
   "outputs": [],
   "source": [
    "guess_attempts = 4"
   ]
  },
  {
   "cell_type": "code",
   "execution_count": 20,
   "id": "70ac7249-9eea-46ef-8547-8ad2a5a7079d",
   "metadata": {
    "tags": []
   },
   "outputs": [
    {
     "name": "stdout",
     "output_type": "stream",
     "text": [
      "Welcome to Hangman!\n",
      "Try to guess the word.\n"
     ]
    }
   ],
   "source": [
    " print(\"Welcome to Hangman!\")\n",
    "print(\"Try to guess the word.\")\n",
    "\n",
    "animal_words = ['elephant', 'tiger', 'giraffe', 'zebra', 'lion']\n",
    "random_word = random.choice(animal_words)\n"
   ]
  },
  {
   "cell_type": "code",
   "execution_count": 21,
   "id": "949b2db5-39d1-483b-a084-21a63bb3ad95",
   "metadata": {
    "scrolled": true,
    "tags": []
   },
   "outputs": [
    {
     "name": "stdin",
     "output_type": "stream",
     "text": [
      "Make a guess:  g\n"
     ]
    },
    {
     "name": "stdout",
     "output_type": "stream",
     "text": [
      "Wrong guess! You have 3 attempts left\n"
     ]
    },
    {
     "name": "stdin",
     "output_type": "stream",
     "text": [
      "Make a guess:  t\n"
     ]
    },
    {
     "name": "stdout",
     "output_type": "stream",
     "text": [
      "Wrong guess! You have 2 attempts left\n"
     ]
    },
    {
     "name": "stdin",
     "output_type": "stream",
     "text": [
      "Make a guess:  l\n"
     ]
    },
    {
     "name": "stdout",
     "output_type": "stream",
     "text": [
      "Correct guess: l\n"
     ]
    },
    {
     "name": "stdin",
     "output_type": "stream",
     "text": [
      "Make a guess:  e\n"
     ]
    },
    {
     "name": "stdout",
     "output_type": "stream",
     "text": [
      "Wrong guess! You have 1 attempts left\n",
      "Correct guess: l\n"
     ]
    },
    {
     "name": "stdin",
     "output_type": "stream",
     "text": [
      "Make a guess:  i\n"
     ]
    },
    {
     "name": "stdout",
     "output_type": "stream",
     "text": [
      "Correct guess: l\n",
      "Correct guess: i\n"
     ]
    },
    {
     "name": "stdin",
     "output_type": "stream",
     "text": [
      "Make a guess:  o\n"
     ]
    },
    {
     "name": "stdout",
     "output_type": "stream",
     "text": [
      "Correct guess: l\n",
      "Correct guess: i\n",
      "Correct guess: o\n"
     ]
    },
    {
     "name": "stdin",
     "output_type": "stream",
     "text": [
      "Make a guess:  n\n"
     ]
    },
    {
     "name": "stdout",
     "output_type": "stream",
     "text": [
      "Correct guess: l\n",
      "Correct guess: i\n",
      "Correct guess: o\n",
      "Correct guess: n\n",
      "Congratulations! You guessed the word: lion\n"
     ]
    }
   ],
   "source": [
    "user_guesses = ''\n",
    "while guess_attempts > 0:\n",
    "    \n",
    "    wrong_guesses = 0\n",
    "    for guess_letter in random_word:\n",
    "        if guess_letter in user_guesses:\n",
    "         print(f\"Correct guess: {guess_letter}\")\n",
    "        else:\n",
    "         wrong_guesses += 1\n",
    "      \n",
    "    if wrong_guesses == 0:\n",
    "        print(\"Congratulations! You guessed the word:\", random_word)\n",
    "        break\n",
    "    guess_letter = input('Make a guess: ')\n",
    "    user_guesses += guess_letter\n",
    "    \n",
    "    if guess_letter not in random_word:\n",
    "        guess_attempts -= 1\n",
    "        print(f\"Wrong guess! You have {guess_attempts} attempts left\")\n",
    "    \n",
    "if guess_attempts == 0:\n",
    "    print(\"You ran out of attempts. The word was:\", random_word)\n",
    "    \n",
    "\n",
    "        "
   ]
  },
  {
   "cell_type": "code",
   "execution_count": null,
   "id": "e9ee38f4-84f5-43e3-a874-659b0af7beb6",
   "metadata": {
    "tags": []
   },
   "outputs": [],
   "source": []
  },
  {
   "cell_type": "code",
   "execution_count": null,
   "id": "d6336d6b-d6cf-421b-89cd-4411a57f12d1",
   "metadata": {},
   "outputs": [],
   "source": []
  }
 ],
 "metadata": {
  "kernelspec": {
   "display_name": "Python 3 (ipykernel)",
   "language": "python",
   "name": "python3"
  },
  "language_info": {
   "codemirror_mode": {
    "name": "ipython",
    "version": 3
   },
   "file_extension": ".py",
   "mimetype": "text/x-python",
   "name": "python",
   "nbconvert_exporter": "python",
   "pygments_lexer": "ipython3",
   "version": "3.11.5"
  }
 },
 "nbformat": 4,
 "nbformat_minor": 5
}
